{
 "cells": [
  {
   "cell_type": "code",
   "execution_count": 1,
   "metadata": {},
   "outputs": [
    {
     "name": "stdout",
     "output_type": "stream",
     "text": [
      "Dataset saved as 'mock_social_media_large_dataset.csv'.\n"
     ]
    }
   ],
   "source": [
    "import pandas as pd\n",
    "import numpy as np\n",
    "\n",
    "# Create a larger dataset with 1000 rows\n",
    "np.random.seed(42)  # For reproducibility\n",
    "\n",
    "# Define parameters\n",
    "post_types = [\"Reel\", \"Carousel\", \"Static Image\"]\n",
    "days_of_week = [\"Sunday\", \"Monday\", \"Tuesday\", \"Wednesday\", \"Thursday\", \"Friday\", \"Saturday\"]\n",
    "times_of_day = [\"08:00\", \"10:00\", \"12:00\", \"14:00\", \"16:00\", \"18:00\", \"20:00\", \"22:00\"]\n",
    "\n",
    "# Generate data\n",
    "large_data = {\n",
    "    \"Post_ID\": range(1, 1001),\n",
    "    \"Post_Type\": np.random.choice(post_types, 1000),\n",
    "    \"Views\": np.random.randint(500, 20000, 1000),\n",
    "    \"Likes\": np.random.randint(50, 5000, 1000),\n",
    "    \"Comments\": np.random.randint(10, 1000, 1000),\n",
    "    \"Shares\": np.random.randint(5, 500, 1000),\n",
    "    \"Engagement_Rate (%)\": np.round(np.random.uniform(5, 15, 1000), 2),\n",
    "    \"Caption_Length\": np.random.randint(20, 300, 1000),\n",
    "    \"Hashtags_Used\": np.random.randint(0, 15, 1000),\n",
    "    \"Tagged_Accounts\": np.random.randint(0, 10, 1000),\n",
    "    \"Post_Date\": pd.date_range(start=\"2023-01-01\", periods=1000, freq=\"D\").strftime(\"%Y-%m-%d\"),\n",
    "    \"Post_Time\": np.random.choice(times_of_day, 1000),\n",
    "    \"Day_of_Week\": np.random.choice(days_of_week, 1000),\n",
    "    \"Sponsored_Post\": np.random.choice([True, False], 1000)\n",
    "}\n",
    "\n",
    "# Convert to DataFrame\n",
    "large_df = pd.DataFrame(large_data)\n",
    "\n",
    "# Save to CSV\n",
    "large_df.to_csv(\"mock_social_media_large_dataset.csv\", index=False)\n",
    "\n",
    "print(\"Dataset saved as 'mock_social_media_large_dataset.csv'.\")\n"
   ]
  },
  {
   "cell_type": "code",
   "execution_count": null,
   "metadata": {},
   "outputs": [],
   "source": []
  }
 ],
 "metadata": {
  "kernelspec": {
   "display_name": "Python 3",
   "language": "python",
   "name": "python3"
  },
  "language_info": {
   "codemirror_mode": {
    "name": "ipython",
    "version": 3
   },
   "file_extension": ".py",
   "mimetype": "text/x-python",
   "name": "python",
   "nbconvert_exporter": "python",
   "pygments_lexer": "ipython3",
   "version": "3.12.8"
  }
 },
 "nbformat": 4,
 "nbformat_minor": 2
}
